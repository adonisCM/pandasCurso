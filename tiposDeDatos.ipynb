{
 "cells": [
  {
   "cell_type": "code",
   "execution_count": null,
   "metadata": {},
   "outputs": [],
   "source": [
    "import pandas as pd"
   ]
  },
  {
   "cell_type": "markdown",
   "metadata": {},
   "source": [
    "## Tipos de datos"
   ]
  },
  {
   "cell_type": "markdown",
   "metadata": {},
   "source": [
    "#### Series y DataFrames"
   ]
  },
  {
   "cell_type": "markdown",
   "metadata": {},
   "source": [
    "* **Un dataframe:** es un tipo de dato bidimensional compuesto por `*filas*`,  `*columnas*` y `*encabezados*`*\n",
    "* **Una serie:** es un tipo de datos `*unidimensional*` enforma de columna compuesto por un `*encabezado*` y sus datos*"
   ]
  },
  {
   "cell_type": "markdown",
   "metadata": {},
   "source": [
    "##### ejemplos"
   ]
  },
  {
   "cell_type": "code",
   "execution_count": null,
   "metadata": {},
   "outputs": [],
   "source": [
    "datos = {'nombres':['Pedro', 'juan', 'Lorena'], \n",
    "         'edades':[25,39,33],\n",
    "         }"
   ]
  },
  {
   "cell_type": "code",
   "execution_count": null,
   "metadata": {},
   "outputs": [],
   "source": [
    "nombres = datos['nombres']\n",
    "edades= datos['edades']\n",
    "for nombre, edad in  zip(nombres, edades):\n",
    "    print(f'{nombre} {edad}')"
   ]
  },
  {
   "cell_type": "code",
   "execution_count": null,
   "metadata": {},
   "outputs": [],
   "source": [
    "# Convertir cualquier tipo de dato d epython a serie\n",
    "sr=pd.Series(datos)\n",
    "\n",
    "# Acceder los campos de las series\n",
    "names = sr['nombres']\n",
    "ages = sr['edades']\n",
    "\n",
    "# iterar sobre los campos de una serie\n",
    "for name, age in zip(names, ages):\n",
    "    print(f'{name} {age}')\n"
   ]
  },
  {
   "cell_type": "code",
   "execution_count": null,
   "metadata": {},
   "outputs": [],
   "source": [
    "'''Convertir cualquier tipo de dato d epython a un dataframe'''\n",
    "df = pd.DataFrame(datos)\n",
    "\n",
    "# accdeder a las series de un dataframe\n",
    "nombres = df['nombres']\n",
    "edades = df['edades']\n",
    "\n",
    " \n",
    "for nombre, edad in zip(nombres, edades):\n",
    "    print(f'{nombre} {edad}')"
   ]
  }
 ],
 "metadata": {
  "kernelspec": {
   "display_name": ".venv",
   "language": "python",
   "name": "python3"
  },
  "language_info": {
   "codemirror_mode": {
    "name": "ipython",
    "version": 3
   },
   "file_extension": ".py",
   "mimetype": "text/x-python",
   "name": "python",
   "nbconvert_exporter": "python",
   "pygments_lexer": "ipython3",
   "version": "3.11.6"
  }
 },
 "nbformat": 4,
 "nbformat_minor": 2
}
